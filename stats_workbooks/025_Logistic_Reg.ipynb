{
 "cells": [
  {
   "cell_type": "code",
   "execution_count": 1,
   "metadata": {},
   "outputs": [],
   "source": [
    "import numpy as np\n",
    "import pandas as pd\n",
    "import seaborn as sns\n",
    "import matplotlib.pyplot as plt\n",
    "import seaborn as sns\n",
    "from sklearn.linear_model import LogisticRegression\n",
    "from sklearn.model_selection import train_test_split\n",
    "from sklearn.pipeline import Pipeline\n",
    "from sklearn.preprocessing import StandardScaler\n",
    "\n",
    "\n",
    "def sigmoid(z):\n",
    "    return 1.0/(1 + np.exp(-z))"
   ]
  },
  {
   "cell_type": "markdown",
   "metadata": {},
   "source": [
    "# Logistic Regression and Gradient Descent\n",
    "\n",
    "Linear regression allows us to make numerical predictions based on one or more inputs, either numerical or categorical. Logistic regression is the equivalent that allows us to make classification predictions - predicting if something falls into group A or group B. Logistic regression (and other classification methods) are extremely common. Regression/prediction and classification are the two big pillars of predictive analytics that we will look at through next term. \n",
    "\n",
    "One thing that we can think of to get started is how to visualize a one feature logistic regression. In a linear regression the line, or model, was a prediction of value - with an input of X, we predict a value of Y. When plotting a logistic regression, the line, or model, is a dividing line between two classes. With an input of X, we predict a class of A or B.\n",
    "\n",
    "![Logistic Regression](images/log_reg.png \"Logistic Regression\")"
   ]
  },
  {
   "cell_type": "markdown",
   "metadata": {},
   "source": [
    "## The Classification Problem\n",
    "\n",
    "Dealing with classification is a little different than regression, because now we are not looking to predict a value, we are looking to predict a class - or phrased alternatively, we are looking to divide two (or more) sets of data.  \n",
    "\n",
    "If we plot a simple 2 variable problem, just like we did in linear regression, we'll get something that looks like this:\n",
    "<ul>\n",
    "<li> Suppose that cholesterol is our X and Target (do you have heart disease?) is the Y. \n",
    "<li> Plot that on a scatter plot. \n",
    "<li> Our goal is to use X to predict Y, just as it was in linear regression. \n",
    "<li> However, there's not a very obvious way to use the X value only to do a linear regression that has any degree of accuracy.\n",
    "    <ul>\n",
    "    <li> Seriously, try to generate any line of best fit that doesn't have massive residuals. \n",
    "    </ul>\n",
    "</ul>"
   ]
  },
  {
   "cell_type": "code",
   "execution_count": 2,
   "metadata": {},
   "outputs": [
    {
     "data": {
      "text/html": [
       "<div>\n",
       "<style scoped>\n",
       "    .dataframe tbody tr th:only-of-type {\n",
       "        vertical-align: middle;\n",
       "    }\n",
       "\n",
       "    .dataframe tbody tr th {\n",
       "        vertical-align: top;\n",
       "    }\n",
       "\n",
       "    .dataframe thead th {\n",
       "        text-align: right;\n",
       "    }\n",
       "</style>\n",
       "<table border=\"1\" class=\"dataframe\">\n",
       "  <thead>\n",
       "    <tr style=\"text-align: right;\">\n",
       "      <th></th>\n",
       "      <th>target</th>\n",
       "      <th>chol</th>\n",
       "    </tr>\n",
       "  </thead>\n",
       "  <tbody>\n",
       "    <tr>\n",
       "      <th>0</th>\n",
       "      <td>0</td>\n",
       "      <td>212</td>\n",
       "    </tr>\n",
       "    <tr>\n",
       "      <th>1</th>\n",
       "      <td>0</td>\n",
       "      <td>203</td>\n",
       "    </tr>\n",
       "    <tr>\n",
       "      <th>2</th>\n",
       "      <td>0</td>\n",
       "      <td>174</td>\n",
       "    </tr>\n",
       "    <tr>\n",
       "      <th>3</th>\n",
       "      <td>0</td>\n",
       "      <td>203</td>\n",
       "    </tr>\n",
       "    <tr>\n",
       "      <th>4</th>\n",
       "      <td>0</td>\n",
       "      <td>294</td>\n",
       "    </tr>\n",
       "  </tbody>\n",
       "</table>\n",
       "</div>"
      ],
      "text/plain": [
       "   target  chol\n",
       "0       0   212\n",
       "1       0   203\n",
       "2       0   174\n",
       "3       0   203\n",
       "4       0   294"
      ]
     },
     "execution_count": 2,
     "metadata": {},
     "output_type": "execute_result"
    }
   ],
   "source": [
    "#Load some data. We'll use this in a bit. \n",
    "df = pd.read_csv(\"data/heart.csv\")\n",
    "df = df[[\"target\", \"chol\"]]\n",
    "df.head()"
   ]
  },
  {
   "cell_type": "code",
   "execution_count": 3,
   "metadata": {},
   "outputs": [
    {
     "data": {
      "text/plain": [
       "<Axes: xlabel='chol', ylabel='target'>"
      ]
     },
     "execution_count": 3,
     "metadata": {},
     "output_type": "execute_result"
    },
    {
     "data": {
      "image/png": "[encoded data removed]",
      "text/plain": [
       "<Figure size 640x480 with 1 Axes>"
      ]
     },
     "metadata": {},
     "output_type": "display_data"
    }
   ],
   "source": [
    "sns.scatterplot(data=df, x=\"chol\", y=\"target\")"
   ]
  },
  {
   "cell_type": "markdown",
   "metadata": {},
   "source": [
    "#### So What Do We Do?\n",
    "\n",
    "We need something that can transform our simple linear fitting into something... else. \n",
    "\n",
    "### The Challenge\n",
    "\n",
    "There's no way to make a good linear regression that will predict the target, given the input. For any linear regression that is dependent on cholesterol, there will be a massive amount of error. We need something different to tackle this problem."
   ]
  },
  {
   "cell_type": "markdown",
   "metadata": {},
   "source": [
    "## Logistic Regression\n",
    "\n",
    "Logistic regression is a way to transform our linear regression into something that can be used for classification. Simply put, when we perform a linear regression to predict a value, we have something that we can calculate directly using the least squares algorithm with a one-X calculation, or the equivalent matrix multiplication when we have multiple features. In other words, we can use the incoming data that we have, both the X and the Y, to calculate the coefficients that we need to predict Y.\n",
    "\n",
    "\n",
    "![Least Squares Equation](images/least_squares_equation.jpg \"Least Squares Equation\")\n",
    "\n",
    "\n",
    "However, when we are doing classification, we don't have a Y value that we can use to calculate the coefficients. We have a Y value that we want to predict, but we don't have a Y value that we can use to calculate the coefficients. There's no linear regression possible that will spit out yes or no, or 1 or 0. \n",
    "\n",
    "We can, however, use a few twists on the linear regression to get there, first we can change the linear regression equation from producing the actual value into an equation that produces the log odds, or the logit, of the value. So, the \"logistic\" part of the logistic regression is due to the logit (or the log-ness), and the \"linear\" part of the logistic regression is due to the fact that we are still using a linear equation to calculate the logit. This part is, from our perspective, arbitrary - someone figured out that this works, and it does, so we use it. So, when doing a logistic regression, we are doing a linear regression of the logit - or the log odds - of the value that we are trying to predict.\n",
    "\n",
    "<big>\n",
    "\n",
    "$ logit = log(odds) = log(\\frac{p}{(1-p)}) = log(\\frac{p}{not p}) = log(\\frac{prob(1)}{prob(0)}) = m*x + b$ \n",
    "\n",
    "</big>\n",
    "\n",
    "Where p is the probability of the event happening, and 1-p is the probability of the event not happening. We represent one of the two outcomes as p, or 1, and the other possible outcome as 1-p, or 0. Which one is which is arbitrary, but we need to be consistent. It is possible to do logistic regression with more than two outcomes, but that comes later, for now we are just doing two outcomes - a binary classification.\n",
    "\n",
    "At this point still have no way to use a regression to predict yes or no, but we do have a way to use a regression to predict the log odds of yes or no. The second step in making things work is to translate the log odds into probability. The two images below show a full derivation for a one-X scenario, if we have more than one input, we'd just have more than one X and more than one coefficient, or w in the example below:\n",
    "\n",
    "![Logistic 1](images/logit_math_1.jpeg \"Logistic 1\")\n",
    "![Logistic 2](images/logit_math_2.jpeg \"Logistic 2\")\n",
    "\n",
    "We don't need to delve super deep into this derivation, be able to do it, or understand all of the details to understand logistic regression well enough to do machine learning, but we do need to understand the basic idea.\n",
    "\n",
    "## Enter the Sigmoid\n",
    "\n",
    "Our logistic regression really picks up at one of the steps above, where a note takes care to point out that we have the sigmoid - a formula of the form:\n",
    "\n",
    "<big><big>\n",
    "\n",
    "$ p = \\frac{1}{1+e^{-z}} $\n",
    "\n",
    "</big></big>\n",
    "\n",
    "Also note that the z is the logit, or the outcome of the linear regression that we mentioned up above. The line below expresses it slightly differently, by representing the sigmoid as we would with a python function, that takes in a value for z (the logit) and returns a value for p (the probability). We can also say something like we take the outcome of our model, and pass it through the sigmoid function to get the probability of the outcome being 1. The sigmoid function has the fun property of being bounded between 0 and 1, which is exactly what we need for a probability. It has another fun property of being quite steep in the middle, meaning that it is \"decisive\" in splitting data to one side or another. \n",
    "\n",
    "![Sigmoid](images/sigmoid.png \"Sigmoid\")\n",
    "\n",
    "### Logistic Regression\n",
    "\n",
    "This is where we have a really ML-relevant step - we can produce a prediction of the probability of 1/0 through a regression. That step of taking the regression output and passing it through the sigmoid function is the key to logistic regression. We can use the linear regression to calculate the logit, and then we can use the sigmoid function to turn the logit into a probability. We can then use the probability to make a classification prediction by relying on the shape of the sigmoid, and dividing the data at 0.5. As a note, this is also how a neural network works at its core. \n",
    "\n",
    "This means that after all those steps, for any given input, we can put the value in for X (or several Xs), calculate the logit, pass it through the sigmoid, perform a cutoff at 0.5, and make a prediction of either 1 or 0. Our full, end-to-end logistic regression looks like this:\n",
    "\n",
    "<big><big>\n",
    "\n",
    "$ p = \\frac{1}{1+e^{-(m*x+b)}} $\n",
    "\n",
    "</big></big>\n",
    "\n",
    "Where p is the probability of the outcome being 1, and m and b are the coefficients that we calculate using the least squares algorithm.\n",
    "\n",
    "<b>So, we can do a linear regression to get the logit, or log odds, then use that to calculate the probability of the outcome being 1, and then use that to make a classification prediction.</b>\n",
    "\n",
    "![Logistic Regression](images/log_reg_full.png \"Logistic Regression\")"
   ]
  },
  {
   "cell_type": "markdown",
   "metadata": {},
   "source": [
    "## What About the Coefficients?\n",
    "\n",
    "One key thing that we've been missing all along is how to calculate the coefficients, a seemingly important step. In a logistic regression we don't have a way to directly calculate the slope(s) and intercept like we do with a linear regression. We can't use the least squares algorithm to calculate the coefficients, because we don't have a Y value to use - we only have probabilities. The probabilistic nature of the calculation we just looked at stops us from having certainty in our coefficients.\n",
    "\n",
    "To figure out the coefficients in a logistic regression we need a totally different approach, one of the most important concepts in machine learning - gradient descent.\n",
    "\n",
    "## Gradient Descent\n",
    "\n",
    "Gradient descent is a method of finding the minimum of a function - in our case it is a method of finding the minimum of the cost function. \n",
    "\n",
    "### The Cost Function\n",
    "\n",
    "Before we can proceed with gradient descent we must introduce the cost function - a function that we define that tells us how wrong our model is. This function is important because the idea of gradient descent is to minimize the cost function by running several iterations; at each stage the cost function tells the algorithm how wrong the model is, so it can adjust be more accurate. \n",
    "\n",
    "The cost function is a function of the actual values and the predicted values. In a regression, the cost function is the mean squared error, or the average of the squared residuals. We can measure how wrong our model is by calculating the cost function, if it gets lower the model is better, if it gets higher the model is worse. In a logistic regression, the idea of the \"cost\" is slightly different because we are predicting a yes/no, so the idea of \"slightly better\" doesn't apply in the same way as it does with MSE. In a classification we only have correct or incorrect, so if we have a value in the training data where the model is 50.1% sure that it is a 1, and the actual value is a 0, that's just as wrong as if the model was 99.9% sure that it was a 1.\n",
    "\n",
    "In a classification problem we need to look at the cost differently, not as a function of the final prediction, but as a function of the probabilities. The output of the sigmoid function is a probability, so we can use that probability to calculate the cost. In this case, if we have a value that is a 1, and the model predicts a 0.9, the cost, or loss is low as we only \"missed\" by .1. If we have a value that is a 1, and the model predicts a 0.1, the cost, or loss is high as we \"missed\" by .9. This allows the model to learn more accurately how good it is, and when we continue with the gradient descent, that is critical. There are several possible cost functions, but the most common is the log loss function, or binary cross entropy:\n",
    "\n",
    "<big><big>\n",
    "\n",
    "$ logloss = 1/n \\sum_{i=1}^{n} -y_i*log(\\hat{y_i}) - (1-y_i)*log(1-\\hat{y_i}) $\n",
    "\n",
    "</big></big>\n",
    "\n",
    "So, every time we calculate the cost of our model, we are calculating the log loss, which will not tell us how many we get right or wrong, but will tell us how wrong we are in aggregate - just like the MSE in a regression.\n",
    "\n",
    "### Gradient Descent\n",
    "\n",
    "Back to gradient descent. The basic idea of gradient descent is:\n",
    "\n",
    "<ul>\n",
    "<li> Start with a random guess for the coefficients. </li>\n",
    "<li> Calculate the cost function. </li>\n",
    "<li> Adjust the coefficients to make the cost function lower. </li>\n",
    "<li> Repeat until the cost function is as low as possible. </li>\n",
    "</ul>\n",
    "\n",
    "Or basically an elaborate, math nerd version of \"guess and test\". The core idea of gradient descent is that simple - it is an algorithm that adjusts coefficients, measures cost, and repeats until the cost is as low as possible. \n",
    "\n",
    "The one step that is a little more complicated is the \"adjust the coefficients to make the cost function lower\" step. It isn't clear how the algorithm knows to make the coefficients lower or higher, and by how much. The answer to this lies in calculus, and the idea of a derivative. The derivative of a function is the slope of the function at a given point. So, if we calculate the derivative of the loss function with the coefficients at a certain point, that will tell us the slope of the loss function at that point. If the slope is positive, we need to move the coefficients down, if the slope is negative, we need to move the coefficients up. The size of the slope tells us how much to move the coefficients. This leads to the most common visualization of gradient descent, the \"hill climbing\" visualization:\n",
    "\n",
    "![Gradient Descent](images/gradient_descent.png \"Gradient Descent\")\n",
    "\n",
    "So in each round of the process, the algorithm will:\n",
    "\n",
    "<ul>\n",
    "<li> Calculate the cost function. </li>\n",
    "<li> Calculate the derivative of the cost function.</li> \n",
    "    <ul>\n",
    "    <li> Specifically, the partial derivative of the cost function with respect to each coefficient. </li>\n",
    "    <li> This means that each separate derivative will tell us how much to adjust each coefficient individually, they each have their own \"slope\". </li>\n",
    "    </ul>\n",
    "<li> Adjust the coefficients by the derivative times the learning rate. </li>\n",
    "    <ul>\n",
    "    <li> The learning rate is a hyperparameter that we set, it is the size of the step that we take in each iteration. </li>\n",
    "    <li> If the learning rate is too small, the algorithm will take a long time to converge, or find an answer. </li>\n",
    "    <li> If the learning rate is too large, the algorithm will overshoot the answer and never converge. </li>\n",
    "    <li> We will look more at learning rates in the future. </li>\n",
    "    </ul>\n",
    "<li> Repeat until the cost function is as low as possible. </li>\n",
    "    <ul>\n",
    "    <li> The cost is low when the derivitive is zero, or when the slope is zero. This means that the algorithm is at the bottom of the cost. </li>\n",
    "    <li> The algorithm will never actually reach zero, but it will get close enough to be good enough. </li>\n",
    "    <li> We often also set a cutoff, such as maximum number of iterations, to prevent the algorithm from running forever. </li>\n",
    "    </ul>\n",
    "</ul>\n",
    "\n",
    "Critically here, as the gradient descent process is working, we don't look at correct or incorrect predictions at all, we only look that the cost - or the measure of how close our prediction was to the correct answer. Our model making correct predictions will be highly correlated with the cost, but it is not a factor in the gradient descent process. We only evaluate the actual accuracy in predictions after the model is created. \n",
    "\n",
    "#### Extra Details\n",
    "\n",
    "The gradient descent algorithm is a little more complicated than that, but not much. The algorithm is:\n",
    "\n",
    "<big><big>\n",
    "\n",
    "$ \\theta_j = \\theta_j - \\alpha \\frac{\\partial}{\\partial \\theta_j} J(\\theta_0, \\theta_1) $\n",
    "\n",
    "</big></big>\n",
    "\n",
    "Where $\\theta_j$ is the coefficient that we are adjusting, $\\alpha$ is the learning rate, and $J(\\theta_0, \\theta_1)$ is the cost function. The learning rate is a hyperparameter that we set, and the cost function is the function that we are trying to minimize. The algorithm is a little more complicated than that, but not much. The algorithm is:\n"
   ]
  },
  {
   "cell_type": "markdown",
   "metadata": {},
   "source": [
    "### Walkthrough Example - Starting Gradient Descent to the First Update\n",
    "\n",
    "We'll walk through the first part of a logistic regression here, through the first round of gradient descent. Simple example... We want to predict Y, given some values of X. For this, we can say that the values are as follows:\n",
    "\n",
    "<ul>\n",
    "<li> Y = Passed high school. 1 = Yes.\n",
    "<li> X1 = Attended class. 1 = Yes.\n",
    "<li> X2 = Studied at home. 1 = Yes. \n",
    "</ul>\n",
    "\n",
    "Each set of values (a column) is one person, so we have two people who passed and two who did not. The details of the data don't matter much, we're looking at the mechanics here. We'll do a real one in a min. This middle part of the curve is sometimes called the Decision Boundary. "
   ]
  },
  {
   "cell_type": "code",
   "execution_count": 4,
   "metadata": {},
   "outputs": [
    {
     "data": {
      "text/html": [
       "<div>\n",
       "<style scoped>\n",
       "    .dataframe tbody tr th:only-of-type {\n",
       "        vertical-align: middle;\n",
       "    }\n",
       "\n",
       "    .dataframe tbody tr th {\n",
       "        vertical-align: top;\n",
       "    }\n",
       "\n",
       "    .dataframe thead th {\n",
       "        text-align: right;\n",
       "    }\n",
       "</style>\n",
       "<table border=\"1\" class=\"dataframe\">\n",
       "  <thead>\n",
       "    <tr style=\"text-align: right;\">\n",
       "      <th></th>\n",
       "      <th>Passed (y)</th>\n",
       "      <th>Attended_class (x1)</th>\n",
       "      <th>Studied (x2)</th>\n",
       "    </tr>\n",
       "  </thead>\n",
       "  <tbody>\n",
       "    <tr>\n",
       "      <th>0</th>\n",
       "      <td>False</td>\n",
       "      <td>False</td>\n",
       "      <td>False</td>\n",
       "    </tr>\n",
       "    <tr>\n",
       "      <th>1</th>\n",
       "      <td>True</td>\n",
       "      <td>False</td>\n",
       "      <td>True</td>\n",
       "    </tr>\n",
       "    <tr>\n",
       "      <th>2</th>\n",
       "      <td>False</td>\n",
       "      <td>False</td>\n",
       "      <td>True</td>\n",
       "    </tr>\n",
       "    <tr>\n",
       "      <th>3</th>\n",
       "      <td>True</td>\n",
       "      <td>True</td>\n",
       "      <td>True</td>\n",
       "    </tr>\n",
       "  </tbody>\n",
       "</table>\n",
       "</div>"
      ],
      "text/plain": [
       "   Passed (y)  Attended_class (x1)  Studied (x2)\n",
       "0       False                False         False\n",
       "1        True                False          True\n",
       "2       False                False          True\n",
       "3        True                 True          True"
      ]
     },
     "execution_count": 4,
     "metadata": {},
     "output_type": "execute_result"
    }
   ],
   "source": [
    "import pandas as pd\n",
    "import numpy as np\n",
    "# Data\n",
    "y = np.array([0, 1, 0, 1])\n",
    "x1 = np.array([0, 0, 0, 1])\n",
    "x2 = np.array([0, 1, 1, 1])\n",
    "\n",
    "# Create dataframe for display\n",
    "df_students = pd.DataFrame({'Passed (y)': y, 'Attended_class (x1)': x1, 'Studied (x2)': x2})\n",
    "df_students = df_students.astype(\"bool\")\n",
    "df_students\n"
   ]
  },
  {
   "cell_type": "markdown",
   "metadata": {},
   "source": [
    "#### Step 1 - Initiate Gradient Descent\n",
    "\n",
    "We can do a regression, using the logit formula:\n",
    "\n",
    "$\\log o = \\beta_0 + \\beta_1 x_1 + \\beta_2 x_2 $\n",
    "\n",
    "We don't know our coefficients though - the process for determining them isn't a direct calculation like linear regression. Here we need to try some, check our error, then improve. (This is a common thing in ML). For this, we are making an arbitrary guess. The starting point doesn't really matter, assuming it isn't something insanely out of range, it may just take longer to converge, or find an answer. In real usage, the starting point may be randomized or use a process to estimate an \"efficient\" starting point. It doesn't matter much at all conceptually. "
   ]
  },
  {
   "cell_type": "code",
   "execution_count": 5,
   "metadata": {},
   "outputs": [],
   "source": [
    "b = [-1.5, 2.8, 1.1]"
   ]
  },
  {
   "cell_type": "markdown",
   "metadata": {},
   "source": [
    "Now, we can calculate it out, just like a linear regression. "
   ]
  },
  {
   "cell_type": "code",
   "execution_count": 6,
   "metadata": {},
   "outputs": [
    {
     "data": {
      "text/plain": [
       "array([-1.5, -0.4, -0.4,  2.4])"
      ]
     },
     "execution_count": 6,
     "metadata": {},
     "output_type": "execute_result"
    }
   ],
   "source": [
    "log_o = b[0] + b[1] * x1 + b[2] * x2\n",
    "log_o"
   ]
  },
  {
   "cell_type": "markdown",
   "metadata": {},
   "source": [
    "Now, convert log odds to odds"
   ]
  },
  {
   "cell_type": "code",
   "execution_count": 7,
   "metadata": {},
   "outputs": [
    {
     "data": {
      "text/plain": [
       "array([ 0.22313016,  0.67032005,  0.67032005, 11.02317638])"
      ]
     },
     "execution_count": 7,
     "metadata": {},
     "output_type": "execute_result"
    }
   ],
   "source": [
    "o = np.exp(log_o)\n",
    "o"
   ]
  },
  {
   "cell_type": "markdown",
   "metadata": {},
   "source": [
    "Now, convert odds to probabilities. These probabilities are the outputs of the sigmoid calculation, and we can use them to classify by just labeling things that are over the cutoff (usually .5) as 1s and the things that are under as 0. "
   ]
  },
  {
   "cell_type": "code",
   "execution_count": 8,
   "metadata": {},
   "outputs": [
    {
     "data": {
      "text/plain": [
       "array([0.18242552, 0.40131234, 0.40131234, 0.9168273 ])"
      ]
     },
     "execution_count": 8,
     "metadata": {},
     "output_type": "execute_result"
    }
   ],
   "source": [
    "p = o / (o+1)\n",
    "p"
   ]
  },
  {
   "cell_type": "code",
   "execution_count": 9,
   "metadata": {},
   "outputs": [
    {
     "data": {
      "image/png": "[encoded data removed]",
      "text/plain": [
       "<Figure size 1000x500 with 1 Axes>"
      ]
     },
     "metadata": {},
     "output_type": "display_data"
    }
   ],
   "source": [
    "x_loss = np.linspace(-5, 5, 10000)\n",
    "y_loss = sigmoid(x_loss)\n",
    "points_y = sigmoid(log_o)\n",
    "fig = plt.figure(figsize=(10, 5))\n",
    "# Create the plot\n",
    "plt.plot(x_loss, y_loss)\n",
    "# Show the plot\n",
    "plt.axhline(.5, color=\"red\")\n",
    "plt.scatter(log_o, points_y, color=\"red\")\n",
    "\n",
    "# Add vertical lines\n",
    "for i in range(len(log_o)):\n",
    "    if points_y[i] < 0.5:\n",
    "        plt.vlines(log_o[i], 0, points_y[i], colors=\"red\", linestyles=\"dashed\")\n",
    "    else:\n",
    "        plt.vlines(log_o[i], points_y[i], 1, colors=\"red\", linestyles=\"dashed\")\n",
    "\n",
    "plt.show()\n"
   ]
  },
  {
   "cell_type": "markdown",
   "metadata": {},
   "source": [
    "<b>At this point, we'd calculate the derivative of the cost function with respect to each of the coefficients, adjust the coefficients, and repeat. </b>"
   ]
  },
  {
   "cell_type": "markdown",
   "metadata": {},
   "source": [
    "##### What is our Loss?\n",
    "\n",
    "Our loss in the example above is a calculation the summarizes all of our individual errors. In the previous cell we calculated the probability of each person passing (being 1), our original Y data shows us the true probability of each person passing (either 0 or 1). Each prediction has an error of the distance between that true value and our expected probability. \n",
    "\n",
    "E.g. for the second item, this person passed, so the real value is 1. We predicted a ~40% likelihood of them passing, so our error there is ~60%. Person 4 passed, we predicted a ~92% chance of them passing, so our error is ~8%. "
   ]
  },
  {
   "cell_type": "code",
   "execution_count": 10,
   "metadata": {},
   "outputs": [
    {
     "data": {
      "text/plain": [
       "array([0.18242552, 0.59868766, 0.40131234, 0.0831727 ])"
      ]
     },
     "execution_count": 10,
     "metadata": {},
     "output_type": "execute_result"
    }
   ],
   "source": [
    "#likes = np.where(y, p, 1-p)\n",
    "likes = np.where(y, 1-p, p)\n",
    "likes"
   ]
  },
  {
   "cell_type": "markdown",
   "metadata": {},
   "source": [
    "#### Cost Function\n",
    "\n",
    "These individual accuracies can be tallied up, we'll do a simple one with a common loss function called log-loss. There are a bunch of \"real\" loss functions that we can use, we'll explore them later on in machine learning. The most simple one is also based on the log of the odds, it is called Binary Cross-entropy, or Log-Loss. Don't worry about these details too much now, we will explore this later. \n",
    "\n",
    "![Log Loss](images/log_loss.png \"Log Loss\")\n",
    "\n",
    "The goal of the algorithm is to find the smallest value for this totalled loss, that's when we are most accurate overall. \n",
    "\n",
    "We can turn this loss total into an overall cost by just dividing by n. "
   ]
  },
  {
   "cell_type": "code",
   "execution_count": 11,
   "metadata": {},
   "outputs": [
    {
     "data": {
      "text/plain": [
       "0.42856998373415184"
      ]
     },
     "execution_count": 11,
     "metadata": {},
     "output_type": "execute_result"
    }
   ],
   "source": [
    "loss_sum = 0\n",
    "for i in range(len(p)):\n",
    "    if y[i] == 1:\n",
    "        loss_sum += -np.log(p[i])\n",
    "    elif y[i] == 0:\n",
    "        loss_sum += -np.log(1-p[i])\n",
    "cost = loss_sum/len(p)\n",
    "cost"
   ]
  },
  {
   "cell_type": "markdown",
   "metadata": {},
   "source": [
    "Our overall goal is to find the lowest possibility for this value. The lower this value, the closer to reality our model was predicting, the more accurate we can be. The process is to now to:\n",
    "<ul>\n",
    "<li> Take this amount of overall error, use it to make an adjustment to those starting values. (The ones we made up to start)\n",
    "    <ul>\n",
    "    <li> This step is something we'll look at in more depth with neural networks. In involves some partial derivitives which (kind of) allow us to work backwards and attribue parts of the errors to the original inputs. \n",
    "    </ul>\n",
    "<li> Calculate the new error with the different starting point. \n",
    "<li> Repeat - each stage should move us a little closer to the \"true\" answer. \n",
    "    <ul>\n",
    "    <li> In other words, we are repeating the process over and over until we've found the solution that minimizes our overal cost/loss (the amount of error). \n",
    "    </ul>\n",
    "</ul>\n",
    "\n",
    "This process is called Gradient Descent and is something we will care about more in ML class. Basically we define something called a loss function, which measures how much error we have. We then repeat a bunch of trials with different coef values, and measure the loss each time. We keep repeating until we've found the lowest amount of loss - or the smallest amount of error. The math can be complex, but the idea is pretty simple. If we manually changed the array of b values, ran the model, collected the LIKE value, and finally selected the combination with the best LIKE, that'd be a crude version of the same thing. This idea is common later on. Here, sklearn or statsmodels do it for us.\n",
    "\n"
   ]
  },
  {
   "cell_type": "markdown",
   "metadata": {},
   "source": [
    "### Full Gradient Descent Process in Practice\n",
    "\n",
    "As we use logistic regression, the fit() step that trains our model is the first look at a model that has a substantial training step - the numerous rounds of gradient descent to find the best coefficients. The process looks like this with the heart disease dataset:\n",
    "<ul>\n",
    "<li> Create the linear regression, starting with random coefficients for slopes and intercept. </li>\n",
    "<li> Calculate the result of the linear regression, the log odds, for each row. </li>\n",
    "<li> Pass the log odds through the sigmoid function to get the probability of each row. </li>\n",
    "<li> Calculate the loss, or the error, of the model. Normally by measuring the \"true\" value of 1 or 0, with the predicted probability of a 1 that came out of the sigmoid. </li>\n",
    "<li> Calculate the derivative of the loss function with respect to each coefficient. </li>\n",
    "<li> Adjust the coefficients by the derivative times the learning rate. </li>\n",
    "<li> Go back up to calculating the result of the linear regression, and repeat until the loss is as low as possible or we hit a limit. </li>\n",
    "<li> The coefficients at the stopping point are the coefficients that complete our model. </li>\n",
    "</ul>\n",
    "\n",
    "This process is totally different in concept to the linear regressions that we've looked at that can be calculated directly through least squares. This process is iterative, and requires a lot of computation, which is a main reason why we need lots of processing power for machine learning. In real applications, most algorithms, even linear regression (more details later), use some form of gradient descent to find the best coefficients. This approach is very useful and versatile as we can always work towards a solution incrementally, almost no matter where we start. As long as we can define some measure of cost, or some measure that tells the model how well it is doing, we can use gradient descent to push the model to be better. \n",
    "\n",
    "Gradient descent is also the core of neural networks, in fact a neural network is roughly like a series of many large logistic regressions, each one feeding into the next. The process of training a neural network is very similar to this, the main difference being that neural networks generally have far more weights that can be adjusted, giving them the ability to learn very complex patterns in data, provided we have enough data and enough processing power for it to be trained. "
   ]
  },
  {
   "cell_type": "markdown",
   "metadata": {},
   "source": [
    "### The Sigmoid and the Regression\n",
    "\n",
    "The sigmoid function is a function that takes in inputs (X values) and squishes all the outputs (Y values) between 0 and 1. This is key in a classification because when we do a linear regression, such as is happening in the process above, we get a value that can be any number. The sigmoid function takes that value (any input for X) and translates it into a probability output for Y that is always bonded between 0 and 1. This is what allows the whole system to work as it does, the linear regression determines the relative odds of things happening using regular linear regression math, then we use the sigmoid function to translate those odds into probabilities.\n",
    "\n",
    "The sigmoid is also the inverse of the logit function. The function is:\n",
    "\n",
    "$ g(x) = \\frac{1}{(1+e^-x)} = logit^-1 $\n",
    "\n",
    "A graph of what it ends up looking like is below. The red line at 50% is the decision boundary, anything above that is a 1, anything below that is a 0. This is just a cutoff, the exact value is theoretically arbitrary, but in practice we pretty much always use 50% as the cutoff. As a reminder, this value is \"how likely does the model think that this is a 1\"."
   ]
  },
  {
   "cell_type": "code",
   "execution_count": 12,
   "metadata": {},
   "outputs": [
    {
     "data": {
      "image/png": "[encoded data removed]",
      "text/plain": [
       "<Figure size 1000x500 with 1 Axes>"
      ]
     },
     "metadata": {},
     "output_type": "display_data"
    }
   ],
   "source": [
    "# Creating vectors X and Y\n",
    "x = np.linspace(-5, 5, 10000)\n",
    "y = sigmoid(x)\n",
    "fig = plt.figure(figsize = (10, 5))\n",
    "# Create the plot\n",
    "plt.plot(x, y)\n",
    "# Show the plot\n",
    "plt.axhline(.5, color=\"red\")\n",
    "plt.show()"
   ]
  },
  {
   "cell_type": "markdown",
   "metadata": {},
   "source": [
    "Our logistic regression is going to use this sigmoid functions to generate a prediction between 0 and 1. Can can plug the linear regression equation into the sigmoid function, then our new hypothesis becomes:\n",
    "\n",
    "$ y = \\frac{1}{(1+e^(m*x+b))} $\n",
    "\n",
    "Where y = probability. \n",
    "\n",
    "Note - the mathmatical derivations aren't really super-duper critical. If it is confusing, just ingore it. There's a full derivation and example here: https://stats.idre.ucla.edu/other/mult-pkg/faq/general/faq-how-do-i-interpret-odds-ratios-in-logistic-regression/\n",
    "\n",
    "![Logistic](images/logistic.webp \"Logistic\")"
   ]
  },
  {
   "cell_type": "markdown",
   "metadata": {},
   "source": [
    "<h2>Real Example - SciKitLearn</h2>\n",
    "\n",
    "For our first try we can use the diabetes example we've used a bit before, though we've always sidesteped the true target. The outcome value is whether or not someone is diabetic, and all the other variables that are risk factors that we can use to predict if someone will become diabetic. Our aim is to predict, yes or no, will someone develop diabetes based on those risk factors. \n",
    "\n",
    "First - one variable. We'll use BMI."
   ]
  },
  {
   "cell_type": "code",
   "execution_count": 13,
   "metadata": {},
   "outputs": [
    {
     "name": "stdout",
     "output_type": "stream",
     "text": [
      "(1025, 1) (1025, 1)\n"
     ]
    }
   ],
   "source": [
    "y = np.array(df[\"target\"]).reshape(-1,1)\n",
    "x = np.array(df[\"chol\"]).reshape(-1,1)\n",
    "print(x.shape, y.shape)\n",
    "\n",
    "X_train, X_test, y_train, y_test = train_test_split(x, y, test_size=0.33)"
   ]
  },
  {
   "cell_type": "markdown",
   "metadata": {},
   "source": [
    "<b>ravel()</b> - sometimes you may get a message that says something like \"we want the y data in the shape (samples,)\". This is obviously a contradiction to what we said to always shape the y as (samples, 1). The easiest way to deal with this is to use the .ravel() function as shown below. The cause is the expectation of data format for whatever you're using, which can vary. If we always make the y array (samples, 1) and then use ravel when needed, that allows us to be consistent and not worry about it much. I'd suggest keeping with this for simplicity. "
   ]
  },
  {
   "cell_type": "code",
   "execution_count": 14,
   "metadata": {},
   "outputs": [
    {
     "name": "stdout",
     "output_type": "stream",
     "text": [
      "0.5752212389380531\n"
     ]
    }
   ],
   "source": [
    "md1 = LogisticRegression().fit(X_train,y_train.ravel())\n",
    "md1Pred = md1.predict(X_test)\n",
    "\n",
    "score = md1.score(X_test, y_test)\n",
    "print(score)"
   ]
  },
  {
   "cell_type": "markdown",
   "metadata": {},
   "source": [
    "66% accuracy. Not bad. We can try with more Xs though...\n",
    "\n",
    "#### Multiple Logistic Regression\n",
    "\n",
    "Note that I added a hyperparameter to the logistic regression that changes the cutoff point for number of iterations. Without that, it might not converge, or find a solution."
   ]
  },
  {
   "cell_type": "code",
   "execution_count": 15,
   "metadata": {},
   "outputs": [
    {
     "data": {
      "text/plain": [
       "(1025, 13)"
      ]
     },
     "execution_count": 15,
     "metadata": {},
     "output_type": "execute_result"
    }
   ],
   "source": [
    "#Get all the X values. \n",
    "# I can use the y from above still \n",
    "df2 = pd.read_csv(\"data/heart.csv\").drop(columns={\"target\"})\n",
    "x2 = np.array(df2)\n",
    "x2.shape"
   ]
  },
  {
   "cell_type": "code",
   "execution_count": 16,
   "metadata": {},
   "outputs": [
    {
     "name": "stdout",
     "output_type": "stream",
     "text": [
      "0.831858407079646\n"
     ]
    }
   ],
   "source": [
    "#I'm reusing some varaible names to make my life easier with copy/paste. \n",
    "#Make sure you run things in order if you do this. \n",
    "X_train, X_test, y_train, y_test = train_test_split(x2, y, test_size=0.33)\n",
    "\n",
    "md2 = LogisticRegression(max_iter=1000).fit(X_train,y_train.ravel())\n",
    "md2Pred = md2.predict(X_test)\n",
    "score = md2.score(X_test, y_test)\n",
    "print(score)"
   ]
  },
  {
   "cell_type": "markdown",
   "metadata": {},
   "source": [
    "When I ran this the first time, I didn't get an answer, I instead got something along the lines of \"failed to converge\". This means that the gradient descent process didn't finish, and the algorithm didn't settle on an answer. We will explore this more in the machine learning stuff, for now we can just tell it to set a higher cap on how long it can run. "
   ]
  },
  {
   "cell_type": "code",
   "execution_count": 17,
   "metadata": {},
   "outputs": [
    {
     "name": "stdout",
     "output_type": "stream",
     "text": [
      "0.831858407079646\n"
     ]
    }
   ],
   "source": [
    "md2 = LogisticRegression(max_iter=1000).fit(X_train,y_train.ravel())\n",
    "md2Pred = md2.predict(X_test)\n",
    "score = md2.score(X_test, y_test)\n",
    "print(score)"
   ]
  },
  {
   "cell_type": "markdown",
   "metadata": {},
   "source": [
    "### Classification Results \n",
    "\n",
    "We can demonstrate some results... We'll look into result details more later. "
   ]
  },
  {
   "cell_type": "code",
   "execution_count": 18,
   "metadata": {},
   "outputs": [],
   "source": [
    "from sklearn.metrics import classification_report, accuracy_score, confusion_matrix \n",
    "preds = md2.predict(X_test)"
   ]
  },
  {
   "cell_type": "code",
   "execution_count": 19,
   "metadata": {},
   "outputs": [
    {
     "name": "stdout",
     "output_type": "stream",
     "text": [
      "              precision    recall  f1-score   support\n",
      "\n",
      "           0       0.84      0.81      0.82       165\n",
      "           1       0.82      0.86      0.84       174\n",
      "\n",
      "    accuracy                           0.83       339\n",
      "   macro avg       0.83      0.83      0.83       339\n",
      "weighted avg       0.83      0.83      0.83       339\n",
      "\n"
     ]
    }
   ],
   "source": [
    "print(classification_report(y_test, preds, digits=2))"
   ]
  },
  {
   "cell_type": "code",
   "execution_count": 20,
   "metadata": {},
   "outputs": [
    {
     "name": "stdout",
     "output_type": "stream",
     "text": [
      "[[133  32]\n",
      " [ 25 149]]\n"
     ]
    }
   ],
   "source": [
    "print(confusion_matrix(y_test, preds))"
   ]
  },
  {
   "cell_type": "code",
   "execution_count": 21,
   "metadata": {},
   "outputs": [
    {
     "data": {
      "text/plain": [
       "<Axes: >"
      ]
     },
     "execution_count": 21,
     "metadata": {},
     "output_type": "execute_result"
    },
    {
     "data": {
      "image/png": "[encoded data removed]",
      "text/plain": [
       "<Figure size 640x480 with 2 Axes>"
      ]
     },
     "metadata": {},
     "output_type": "display_data"
    }
   ],
   "source": [
    "sns.heatmap(confusion_matrix(y_test, preds), annot=True)"
   ]
  },
  {
   "cell_type": "code",
   "execution_count": 22,
   "metadata": {},
   "outputs": [
    {
     "name": "stdout",
     "output_type": "stream",
     "text": [
      "83.1858407079646\n"
     ]
    }
   ],
   "source": [
    "print(accuracy_score(y_test, preds)*100)"
   ]
  },
  {
   "cell_type": "markdown",
   "metadata": {},
   "source": [
    "## Exercise - Predict Diabetes\n",
    "\n",
    "Predict the Outcome variable. "
   ]
  },
  {
   "cell_type": "code",
   "execution_count": 23,
   "metadata": {},
   "outputs": [
    {
     "data": {
      "text/html": [
       "<div>\n",
       "<style scoped>\n",
       "    .dataframe tbody tr th:only-of-type {\n",
       "        vertical-align: middle;\n",
       "    }\n",
       "\n",
       "    .dataframe tbody tr th {\n",
       "        vertical-align: top;\n",
       "    }\n",
       "\n",
       "    .dataframe thead th {\n",
       "        text-align: right;\n",
       "    }\n",
       "</style>\n",
       "<table border=\"1\" class=\"dataframe\">\n",
       "  <thead>\n",
       "    <tr style=\"text-align: right;\">\n",
       "      <th></th>\n",
       "      <th>Pregnancies</th>\n",
       "      <th>Glucose</th>\n",
       "      <th>BloodPressure</th>\n",
       "      <th>SkinThickness</th>\n",
       "      <th>Insulin</th>\n",
       "      <th>BMI</th>\n",
       "      <th>DiabetesPedigreeFunction</th>\n",
       "      <th>Age</th>\n",
       "      <th>Outcome</th>\n",
       "    </tr>\n",
       "  </thead>\n",
       "  <tbody>\n",
       "    <tr>\n",
       "      <th>0</th>\n",
       "      <td>6</td>\n",
       "      <td>148</td>\n",
       "      <td>72</td>\n",
       "      <td>35</td>\n",
       "      <td>0</td>\n",
       "      <td>33.6</td>\n",
       "      <td>0.627</td>\n",
       "      <td>50</td>\n",
       "      <td>1</td>\n",
       "    </tr>\n",
       "    <tr>\n",
       "      <th>1</th>\n",
       "      <td>1</td>\n",
       "      <td>85</td>\n",
       "      <td>66</td>\n",
       "      <td>29</td>\n",
       "      <td>0</td>\n",
       "      <td>26.6</td>\n",
       "      <td>0.351</td>\n",
       "      <td>31</td>\n",
       "      <td>0</td>\n",
       "    </tr>\n",
       "    <tr>\n",
       "      <th>2</th>\n",
       "      <td>8</td>\n",
       "      <td>183</td>\n",
       "      <td>64</td>\n",
       "      <td>0</td>\n",
       "      <td>0</td>\n",
       "      <td>23.3</td>\n",
       "      <td>0.672</td>\n",
       "      <td>32</td>\n",
       "      <td>1</td>\n",
       "    </tr>\n",
       "    <tr>\n",
       "      <th>3</th>\n",
       "      <td>1</td>\n",
       "      <td>89</td>\n",
       "      <td>66</td>\n",
       "      <td>23</td>\n",
       "      <td>94</td>\n",
       "      <td>28.1</td>\n",
       "      <td>0.167</td>\n",
       "      <td>21</td>\n",
       "      <td>0</td>\n",
       "    </tr>\n",
       "    <tr>\n",
       "      <th>4</th>\n",
       "      <td>0</td>\n",
       "      <td>137</td>\n",
       "      <td>40</td>\n",
       "      <td>35</td>\n",
       "      <td>168</td>\n",
       "      <td>43.1</td>\n",
       "      <td>2.288</td>\n",
       "      <td>33</td>\n",
       "      <td>1</td>\n",
       "    </tr>\n",
       "  </tbody>\n",
       "</table>\n",
       "</div>"
      ],
      "text/plain": [
       "   Pregnancies  Glucose  BloodPressure  SkinThickness  Insulin   BMI  \\\n",
       "0            6      148             72             35        0  33.6   \n",
       "1            1       85             66             29        0  26.6   \n",
       "2            8      183             64              0        0  23.3   \n",
       "3            1       89             66             23       94  28.1   \n",
       "4            0      137             40             35      168  43.1   \n",
       "\n",
       "   DiabetesPedigreeFunction  Age  Outcome  \n",
       "0                     0.627   50        1  \n",
       "1                     0.351   31        0  \n",
       "2                     0.672   32        1  \n",
       "3                     0.167   21        0  \n",
       "4                     2.288   33        1  "
      ]
     },
     "execution_count": 23,
     "metadata": {},
     "output_type": "execute_result"
    }
   ],
   "source": [
    "df_dia = pd.read_csv(\"data/diabetes.csv\")\n",
    "df_dia.head()"
   ]
  },
  {
   "cell_type": "code",
   "execution_count": 24,
   "metadata": {},
   "outputs": [],
   "source": [
    "# Predict\n"
   ]
  },
  {
   "cell_type": "markdown",
   "metadata": {},
   "source": [
    "## Exercise - Work Through Titanic\n",
    "\n",
    "Predict who lives... This will need a column transformer if not dropping columns. "
   ]
  },
  {
   "cell_type": "code",
   "execution_count": 25,
   "metadata": {},
   "outputs": [
    {
     "data": {
      "text/html": [
       "<div>\n",
       "<style scoped>\n",
       "    .dataframe tbody tr th:only-of-type {\n",
       "        vertical-align: middle;\n",
       "    }\n",
       "\n",
       "    .dataframe tbody tr th {\n",
       "        vertical-align: top;\n",
       "    }\n",
       "\n",
       "    .dataframe thead th {\n",
       "        text-align: right;\n",
       "    }\n",
       "</style>\n",
       "<table border=\"1\" class=\"dataframe\">\n",
       "  <thead>\n",
       "    <tr style=\"text-align: right;\">\n",
       "      <th></th>\n",
       "      <th>PassengerId</th>\n",
       "      <th>Survived</th>\n",
       "      <th>Pclass</th>\n",
       "      <th>Name</th>\n",
       "      <th>Sex</th>\n",
       "      <th>Age</th>\n",
       "      <th>SibSp</th>\n",
       "      <th>Parch</th>\n",
       "      <th>Ticket</th>\n",
       "      <th>Fare</th>\n",
       "      <th>Cabin</th>\n",
       "      <th>Embarked</th>\n",
       "    </tr>\n",
       "  </thead>\n",
       "  <tbody>\n",
       "    <tr>\n",
       "      <th>0</th>\n",
       "      <td>1</td>\n",
       "      <td>0</td>\n",
       "      <td>3</td>\n",
       "      <td>Braund, Mr. Owen Harris</td>\n",
       "      <td>male</td>\n",
       "      <td>22.0</td>\n",
       "      <td>1</td>\n",
       "      <td>0</td>\n",
       "      <td>A/5 21171</td>\n",
       "      <td>7.2500</td>\n",
       "      <td>NaN</td>\n",
       "      <td>S</td>\n",
       "    </tr>\n",
       "    <tr>\n",
       "      <th>1</th>\n",
       "      <td>2</td>\n",
       "      <td>1</td>\n",
       "      <td>1</td>\n",
       "      <td>Cumings, Mrs. John Bradley (Florence Briggs Th...</td>\n",
       "      <td>female</td>\n",
       "      <td>38.0</td>\n",
       "      <td>1</td>\n",
       "      <td>0</td>\n",
       "      <td>PC 17599</td>\n",
       "      <td>71.2833</td>\n",
       "      <td>C85</td>\n",
       "      <td>C</td>\n",
       "    </tr>\n",
       "    <tr>\n",
       "      <th>2</th>\n",
       "      <td>3</td>\n",
       "      <td>1</td>\n",
       "      <td>3</td>\n",
       "      <td>Heikkinen, Miss. Laina</td>\n",
       "      <td>female</td>\n",
       "      <td>26.0</td>\n",
       "      <td>0</td>\n",
       "      <td>0</td>\n",
       "      <td>STON/O2. 3101282</td>\n",
       "      <td>7.9250</td>\n",
       "      <td>NaN</td>\n",
       "      <td>S</td>\n",
       "    </tr>\n",
       "    <tr>\n",
       "      <th>3</th>\n",
       "      <td>4</td>\n",
       "      <td>1</td>\n",
       "      <td>1</td>\n",
       "      <td>Futrelle, Mrs. Jacques Heath (Lily May Peel)</td>\n",
       "      <td>female</td>\n",
       "      <td>35.0</td>\n",
       "      <td>1</td>\n",
       "      <td>0</td>\n",
       "      <td>113803</td>\n",
       "      <td>53.1000</td>\n",
       "      <td>C123</td>\n",
       "      <td>S</td>\n",
       "    </tr>\n",
       "    <tr>\n",
       "      <th>4</th>\n",
       "      <td>5</td>\n",
       "      <td>0</td>\n",
       "      <td>3</td>\n",
       "      <td>Allen, Mr. William Henry</td>\n",
       "      <td>male</td>\n",
       "      <td>35.0</td>\n",
       "      <td>0</td>\n",
       "      <td>0</td>\n",
       "      <td>373450</td>\n",
       "      <td>8.0500</td>\n",
       "      <td>NaN</td>\n",
       "      <td>S</td>\n",
       "    </tr>\n",
       "  </tbody>\n",
       "</table>\n",
       "</div>"
      ],
      "text/plain": [
       "   PassengerId  Survived  Pclass  \\\n",
       "0            1         0       3   \n",
       "1            2         1       1   \n",
       "2            3         1       3   \n",
       "3            4         1       1   \n",
       "4            5         0       3   \n",
       "\n",
       "                                                Name     Sex   Age  SibSp  \\\n",
       "0                            Braund, Mr. Owen Harris    male  22.0      1   \n",
       "1  Cumings, Mrs. John Bradley (Florence Briggs Th...  female  38.0      1   \n",
       "2                             Heikkinen, Miss. Laina  female  26.0      0   \n",
       "3       Futrelle, Mrs. Jacques Heath (Lily May Peel)  female  35.0      1   \n",
       "4                           Allen, Mr. William Henry    male  35.0      0   \n",
       "\n",
       "   Parch            Ticket     Fare Cabin Embarked  \n",
       "0      0         A/5 21171   7.2500   NaN        S  \n",
       "1      0          PC 17599  71.2833   C85        C  \n",
       "2      0  STON/O2. 3101282   7.9250   NaN        S  \n",
       "3      0            113803  53.1000  C123        S  \n",
       "4      0            373450   8.0500   NaN        S  "
      ]
     },
     "execution_count": 25,
     "metadata": {},
     "output_type": "execute_result"
    }
   ],
   "source": [
    "#Data\n",
    "dfe = pd.read_csv(\"data/train.csv\")\n",
    "dfe.head()"
   ]
  },
  {
   "cell_type": "code",
   "execution_count": 26,
   "metadata": {},
   "outputs": [],
   "source": [
    "# Do it"
   ]
  }
 ],
 "metadata": {
  "interpreter": {
   "hash": "ea39297c2a3b8433e0e3c4b620aff79df88eb4bda961dfb2311fbafd7efdbd77"
  },
  "kernelspec": {
   "display_name": "Python 3.8.11 64-bit ('base': conda)",
   "name": "python3"
  },
  "language_info": {
   "codemirror_mode": {
    "name": "ipython",
    "version": 3
   },
   "file_extension": ".py",
   "mimetype": "text/x-python",
   "name": "python",
   "nbconvert_exporter": "python",
   "pygments_lexer": "ipython3",
   "version": "3.10.9"
  },
  "orig_nbformat": 4
 },
 "nbformat": 4,
 "nbformat_minor": 2
}
